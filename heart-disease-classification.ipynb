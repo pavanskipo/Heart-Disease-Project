{
 "cells": [
  {
   "cell_type": "markdown",
   "metadata": {},
   "source": [
    "# Predicting Heart Disease using Machine Learning\n",
    "\n",
    "This notebook uses various python machine learning tools to build a model that predicts the susceptibility of a person\n",
    "having a heart disease using thier medical records as reference\n",
    "\n",
    "The framework we've used:\n",
    "1. Problem Definition\n",
    "2. Data\n",
    "3. Evaluation\n",
    "4. Features\n",
    "5. Modelling\n",
    "6. Experimentation"
   ]
  },
  {
   "cell_type": "markdown",
   "metadata": {},
   "source": [
    "## 1. Problem Definition\n",
    "\n",
    "> Given clinical parameters of a patient, can we predict whether or not they have a heart disease?\n",
    "\n",
    "## 2. Data\n",
    "\n",
    "Original Data is from UCI Machine Learning - [Heart-Disease-Dataset]('https://archive.ics.uci.edu/ml/datasets/Heart+Disease')\n",
    "\n",
    "## 3. Evaluation\n",
    "\n",
    "> If our model predicts with an accuracy of 95% and above, we will pursue the project.\n",
    "\n",
    "## 4. Features\n",
    "\n",
    "    1. age - age in years\n",
    "    2. sex - (1 = male; 0 = female) \n",
    "    3. cp - chest pain type \n",
    "        * 0: Typical angina: chest pain related decrease blood supply to the heart\n",
    "        * 1: Atypical angina: chest pain not related to heart\n",
    "        * 2: Non-anginal pain: typically esophageal spasms (non heart related)\n",
    "        * 3: Asymptomatic: chest pain not showing signs of disease\n",
    "    4. trestbps - resting blood pressure (in mm Hg on admission to the hospital)\n",
    "        * anything above 130-140 is typically cause for concern\n",
    "    5. chol - serum cholestoral in mg/dl \n",
    "        * serum = LDL + HDL + .2 * triglycerides\n",
    "        * above 200 is cause for concern\n",
    "    6. fbs - (fasting blood sugar > 120 mg/dl) (1 = true; 0 = false) \n",
    "        * '>126' mg/dL signals diabetes\n",
    "    7. restecg - resting electrocardiographic results\n",
    "        * 0: Nothing to note\n",
    "        * 1: ST-T Wave abnormality\n",
    "            - can range from mild symptoms to severe problems\n",
    "            - signals non-normal heart beat\n",
    "        * 2: Possible or definite left ventricular hypertrophy\n",
    "            - Enlarged heart's main pumping chamber\n",
    "    8. thalach - maximum heart rate achieved \n",
    "    9. exang - exercise induced angina (1 = yes; 0 = no) \n",
    "    10. oldpeak - ST depression induced by exercise relative to rest \n",
    "        * looks at stress of heart during excercise\n",
    "        * unhealthy heart will stress more\n",
    "    11. slope - the slope of the peak exercise ST segment\n",
    "        * 0: Upsloping: better heart rate with excercise (uncommon)\n",
    "        * 1: Flatsloping: minimal change (typical healthy heart)\n",
    "        * 2: Downslopins: signs of unhealthy heart\n",
    "    12. ca - number of major vessels (0-3) colored by flourosopy \n",
    "        * colored vessel means the doctor can see the blood passing through\n",
    "        * the more blood movement the better (no clots)\n",
    "    13. thal - thalium stress result\n",
    "        * 1,3: normal\n",
    "        * 6: fixed defect: used to be defect but ok now\n",
    "        * 7: reversable defect: no proper blood movement when excercising \n",
    "    14. target - have disease or not (1=yes, 0=no) (= the predicted attribute)"
   ]
  },
  {
   "cell_type": "markdown",
   "metadata": {},
   "source": [
    "# Preparing the tools\n",
    "\n",
    "we are going to use Pandas, Matplotlib and Numpy for data analysis manipulation"
   ]
  },
  {
   "cell_type": "code",
   "execution_count": 8,
   "metadata": {},
   "outputs": [],
   "source": [
    "# Regular EDA ( Exploratory Data Analysis ) and plotting libraries\n",
    "\n",
    "import pandas as pd\n",
    "import numpy as np\n",
    "import matplotlib.pyplot as plt\n",
    "import seaborn as sns\n",
    "\n",
    "# plot inside of notebook\n",
    "%matplotlib inline \n",
    "\n",
    "\n",
    "# Models from sklearn\n",
    "from sklearn.linear_model import LogisticRegression\n",
    "from sklearn.neighbors import KNeighborsClassifier\n",
    "from sklearn.ensemble import RandomForestClassifier\n",
    "\n",
    "# Model Evaluation\n",
    "from sklearn.model_selection import train_test_split, cross_val_score\n",
    "from sklearn.model_selection import RandomizedSearchCV, GridSearchCV\n",
    "from sklearn.metrics import confusion_matrix, classification_report\n",
    "from sklearn.metrics import precision_score, f1_score, recall_score\n",
    "from sklearn.metrics import plot_roc_curve"
   ]
  },
  {
   "cell_type": "code",
   "execution_count": null,
   "metadata": {},
   "outputs": [],
   "source": []
  }
 ],
 "metadata": {
  "kernelspec": {
   "display_name": "Python 3",
   "language": "python",
   "name": "python3"
  },
  "language_info": {
   "codemirror_mode": {
    "name": "ipython",
    "version": 3
   },
   "file_extension": ".py",
   "mimetype": "text/x-python",
   "name": "python",
   "nbconvert_exporter": "python",
   "pygments_lexer": "ipython3",
   "version": "3.8.3"
  }
 },
 "nbformat": 4,
 "nbformat_minor": 4
}
